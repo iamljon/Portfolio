{
 "cells": [
  {
   "cell_type": "code",
   "execution_count": 103,
   "metadata": {},
   "outputs": [
    {
     "name": "stdout",
     "output_type": "stream",
     "text": [
      "Size of X: (1797, 64)\n",
      "Size of y: (1797,)\n",
      "Size of X: (1797, 64)\n",
      "Size of y: (1797, 1)\n"
     ]
    }
   ],
   "source": [
    "from sklearn.datasets import load_digits\n",
    "\n",
    "mnist = load_digits()\n",
    "X, y = mnist[\"data\"], mnist[\"target\"]\n",
    "print(\"Size of X: {}\".format(X.shape))\n",
    "print(\"Size of y: {}\".format(y.shape))\n",
    "\n",
    "y = y.reshape((y.shape[0],1))\n",
    "print(\"Size of X: {}\".format(X.shape))\n",
    "print(\"Size of y: {}\".format(y.shape))\n"
   ]
  },
  {
   "cell_type": "code",
   "execution_count": 104,
   "metadata": {},
   "outputs": [
    {
     "name": "stdout",
     "output_type": "stream",
     "text": [
      "<class 'numpy.ndarray'>\n",
      "Target number is: [8]\n"
     ]
    },
    {
     "data": {
      "image/png": "[encoded data removed]",
      "text/plain": [
       "<matplotlib.figure.Figure at 0x9e015c0>"
      ]
     },
     "metadata": {},
     "output_type": "display_data"
    }
   ],
   "source": [
    "%matplotlib inline\n",
    "\n",
    "import matplotlib\n",
    "import matplotlib.pyplot as plt\n",
    "some_num = 1796\n",
    "\n",
    "print(type( y[some_num].astype(int)))\n",
    "\n",
    "some_digit = X[some_num]\n",
    "print('Target number is: {}'.format(y[some_num]))\n",
    "some_digit_image = some_digit.reshape(8,8)\n",
    "\n",
    "plt.imshow(some_digit_image, cmap = matplotlib.cm.binary, \\\n",
    "           interpolation = 'nearest')\n",
    "plt.axis('off')\n",
    "plt.show()"
   ]
  }
 ],
 "metadata": {
  "kernelspec": {
   "display_name": "Python 3",
   "language": "python",
   "name": "python3"
  },
  "language_info": {
   "codemirror_mode": {
    "name": "ipython",
    "version": 3
   },
   "file_extension": ".py",
   "mimetype": "text/x-python",
   "name": "python",
   "nbconvert_exporter": "python",
   "pygments_lexer": "ipython3",
   "version": "3.6.4"
  }
 },
 "nbformat": 4,
 "nbformat_minor": 2
}

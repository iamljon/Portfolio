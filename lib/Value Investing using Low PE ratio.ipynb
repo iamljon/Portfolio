{
 "cells": [
  {
   "cell_type": "code",
   "execution_count": 1,
   "metadata": {},
   "outputs": [],
   "source": [
    "import pandas as pd\n",
    "import os\n",
    "import quandl\n",
    "import numpy as np\n",
    "from bs4 import BeautifulSoup\n",
    "import matplotlib.pyplot as plt\n",
    "import requests\n",
    "\n"
   ]
  },
  {
   "cell_type": "code",
   "execution_count": 2,
   "metadata": {},
   "outputs": [],
   "source": [
    "# config file\n",
    "parent_path = os.path.abspath(os.path.pardir)\n",
    "cfg = os.path.join(parent_path,'cfg','quandl_api_key')\n"
   ]
  },
  {
   "cell_type": "code",
   "execution_count": 3,
   "metadata": {},
   "outputs": [],
   "source": [
    "# quandl config\n",
    "\n",
    "with open(cfg, 'r') as file:\n",
    "    api_key = file.readlines()[0]\n",
    "    \n",
    "quandl.ApiConfig.api_key = api_key"
   ]
  },
  {
   "cell_type": "code",
   "execution_count": 4,
   "metadata": {},
   "outputs": [],
   "source": [
    "# load metadata \n",
    "\n",
    "metadata_file = 'FSE_metadata.csv' # as of Jan 9, 2019 NSE data is no longer a free data available on quandl   \n",
    "metadata_path = os.path.join(parent_path, 'dat', metadata_file)\n",
    "\n",
    "# get list of stocks from metadata\n",
    "\n",
    "quandl_stocks = pd.read_csv(metadata_path, parse_dates=True)\n",
    "quandl_stocks = quandl_stocks.loc[quandl_stocks['from_date'] < '2017-01-01', 'code']\n",
    "\n",
    "total_stocks = quandl_stocks.count()"
   ]
  },
  {
   "cell_type": "code",
   "execution_count": 5,
   "metadata": {},
   "outputs": [
    {
     "name": "stdout",
     "output_type": "stream",
     "text": [
      "Stocks in universe: 162\n",
      "0    1COV_X\n",
      "1     2HR_X\n",
      "2     AAD_X\n",
      "3     AB1_X\n",
      "4     ADS_X\n",
      "Name: code, dtype: object\n"
     ]
    }
   ],
   "source": [
    "# visualize\n",
    "\n",
    "print('Stocks in universe: {}'.format(total_stocks))\n",
    "print(quandl_stocks.head())"
   ]
  },
  {
   "cell_type": "code",
   "execution_count": 6,
   "metadata": {},
   "outputs": [
    {
     "name": "stdout",
     "output_type": "stream",
     "text": [
      "0    1COV.DE\n",
      "1     2HR.DE\n",
      "2     AAD.DE\n",
      "3     AB1.DE\n",
      "4     ADS.DE\n",
      "Name: code, dtype: object\n"
     ]
    }
   ],
   "source": [
    "# make codes compatible with Yahoo! finance\n",
    "\n",
    "yahoo_stocks = quandl_stocks.apply(lambda x: x.split('_')[0])\n",
    "yahoo_stocks = yahoo_stocks.apply(lambda x: x + '.DE' )\n",
    "print(yahoo_stocks.head())"
   ]
  },
  {
   "cell_type": "code",
   "execution_count": 7,
   "metadata": {},
   "outputs": [],
   "source": [
    "# convert yahoo_stocks to list\n",
    "\n",
    "y_stock = list(yahoo_stocks.values)"
   ]
  },
  {
   "cell_type": "code",
   "execution_count": null,
   "metadata": {},
   "outputs": [],
   "source": [
    "# get p/e ratio from Yahoo! Finance\n",
    "\n",
    "stock_list = list()\n",
    "pe_list = list()\n",
    "\n",
    "for stock in enumerate(y_stock):\n",
    "    try:\n",
    "        url = 'https://finance.yahoo.com/quote/{}/'.format(stock[1])\n",
    "        response = requests.get(url)\n",
    "        soup = BeautifulSoup(response.text, 'html.parser')\n",
    "        pe = soup.findAll(attrs={'data-test':'PE_RATIO-value'})[0].text\n",
    "        stock_list.append(stock[1])\n",
    "        pe_list.append(pe)\n",
    "        \n",
    "    except:\n",
    "        continue"
   ]
  },
  {
   "cell_type": "code",
   "execution_count": null,
   "metadata": {},
   "outputs": [],
   "source": [
    "# clean P/E values list \n",
    "\n",
    "def _cleanPEValues(x):\n",
    "    if x == 'N/A':\n",
    "        return -999\n",
    "    else:\n",
    "        return float(''.join(x.split(',')))\n",
    "\n",
    "pe = list(map(_cleanPEValues, pe_list))"
   ]
  },
  {
   "cell_type": "code",
   "execution_count": null,
   "metadata": {},
   "outputs": [],
   "source": [
    "# create dataframe\n",
    "\n",
    "df_stocks_pe = pd.DataFrame( {'stocks':stock_list, 'pe':pe} )"
   ]
  },
  {
   "cell_type": "code",
   "execution_count": null,
   "metadata": {},
   "outputs": [],
   "source": [
    "# remove rows with improper values\n",
    "\n",
    "rows_to_keep = df_stocks_pe.loc[ :, 'pe' ] != -999\n",
    "\n",
    "df_stocks_pe = df_stocks_pe.loc[ rows_to_drop , : ] \n",
    "df_stocks_pe.sort_values(by='pe',inplace=True)\n",
    "\n",
    "df_stocks_pe.head(10)"
   ]
  },
  {
   "cell_type": "code",
   "execution_count": null,
   "metadata": {},
   "outputs": [],
   "source": [
    "# short-listed candidates\n",
    "\n",
    "df_stocks_pe[ df_stocks_pe.loc[:, 'pe'] < 10 ]\n"
   ]
  },
  {
   "cell_type": "code",
   "execution_count": null,
   "metadata": {},
   "outputs": [],
   "source": []
  },
  {
   "cell_type": "code",
   "execution_count": null,
   "metadata": {},
   "outputs": [],
   "source": []
  },
  {
   "cell_type": "code",
   "execution_count": null,
   "metadata": {},
   "outputs": [],
   "source": []
  },
  {
   "cell_type": "code",
   "execution_count": null,
   "metadata": {},
   "outputs": [],
   "source": []
  }
 ],
 "metadata": {
  "kernelspec": {
   "display_name": "Python 3",
   "language": "python",
   "name": "python3"
  },
  "language_info": {
   "codemirror_mode": {
    "name": "ipython",
    "version": 3
   },
   "file_extension": ".py",
   "mimetype": "text/x-python",
   "name": "python",
   "nbconvert_exporter": "python",
   "pygments_lexer": "ipython3",
   "version": "3.6.6"
  }
 },
 "nbformat": 4,
 "nbformat_minor": 2
}

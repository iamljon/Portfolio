{
 "cells": [
  {
   "cell_type": "code",
   "execution_count": 1,
   "metadata": {},
   "outputs": [],
   "source": [
    "import mnist\n",
    "import numpy as np\n",
    "from sklearn.linear_model import SGDClassifier"
   ]
  },
  {
   "cell_type": "code",
   "execution_count": 2,
   "metadata": {},
   "outputs": [
    {
     "name": "stdout",
     "output_type": "stream",
     "text": [
      "X_train size: (60000, 28, 28)\n",
      "X_test size: (10000, 28, 28)\n",
      "y_train size: (60000,)\n",
      "y_test size: (10000,)\n",
      "y_train size: (60000, 1)\n",
      "y_test size: (10000, 1)\n"
     ]
    }
   ],
   "source": [
    "X_train = mnist.train_images()\n",
    "y_train = mnist.train_labels()\n",
    "\n",
    "X_test = mnist.test_images()\n",
    "y_test = mnist.test_labels()\n",
    "\n",
    "print(\"X_train size: {}\".format(X_train.shape))\n",
    "print(\"X_test size: {}\".format(X_test.shape))\n",
    "\n",
    "print(\"y_train size: {}\".format(y_train.shape))\n",
    "print(\"y_test size: {}\".format(y_test.shape))\n",
    "\n",
    "y_train = y_train.reshape((y_train.shape[0],1))\n",
    "y_test  = y_test.reshape((y_test.shape[0],1))\n",
    "\n",
    "print(\"y_train size: {}\".format(y_train.shape))\n",
    "print(\"y_test size: {}\".format(y_test.shape))\n",
    "\n"
   ]
  },
  {
   "cell_type": "code",
   "execution_count": 22,
   "metadata": {},
   "outputs": [
    {
     "name": "stdout",
     "output_type": "stream",
     "text": [
      "Current label: [8]\n"
     ]
    },
    {
     "data": {
      "image/png": "[encoded data removed]",
      "text/plain": [
       "<Figure size 432x288 with 1 Axes>"
      ]
     },
     "metadata": {},
     "output_type": "display_data"
    }
   ],
   "source": [
    "%matplotlib inline\n",
    "\n",
    "import matplotlib\n",
    "import matplotlib.pyplot as plt\n",
    "\n",
    "guess = 59999\n",
    "\n",
    "some_digit = X_train[guess]\n",
    "some_digit_image = some_digit.reshape(28,28)\n",
    "print('Current label: {}'.format(y_train[guess]))\n",
    "\n",
    "\n",
    "plt.imshow(some_digit_image, cmap = matplotlib.cm.binary, interpolation='nearest')\n",
    "plt.axis('off')\n",
    "plt.show()"
   ]
  },
  {
   "cell_type": "code",
   "execution_count": 18,
   "metadata": {},
   "outputs": [
    {
     "name": "stdout",
     "output_type": "stream",
     "text": [
      "(1000, 784)\n",
      "(1000, 1)\n"
     ]
    }
   ],
   "source": [
    "shuffle_index = np.random.permutation(60000)\n",
    "X_train_shuffled, y_train_shuffled = X_train[shuffle_index], y_train[shuffle_index]\n",
    "y_train_5 = (y_train_shuffled == 5)\n",
    "\n",
    "X_train_mini, y_train_mini = X_train_shuffled[0:1000,:,:], y_train_shuffled[0:1000]\n",
    "\n",
    "X_train_mini = X_train_mini.reshape(1000, 28 * 28)\n",
    "\n",
    "print(X_train_mini.shape)\n",
    "print(y_train_mini.shape)"
   ]
  },
  {
   "cell_type": "code",
   "execution_count": 20,
   "metadata": {},
   "outputs": [
    {
     "name": "stderr",
     "output_type": "stream",
     "text": [
      "C:\\ProgramData\\Anaconda3\\lib\\site-packages\\sklearn\\linear_model\\stochastic_gradient.py:128: FutureWarning: max_iter and tol parameters have been added in <class 'sklearn.linear_model.stochastic_gradient.SGDClassifier'> in 0.19. If both are left unset, they default to max_iter=5 and tol=None. If tol is not None, max_iter defaults to max_iter=1000. From 0.21, default max_iter will be 1000, and default tol will be 1e-3.\n",
      "  \"and default tol will be 1e-3.\" % type(self), FutureWarning)\n",
      "C:\\ProgramData\\Anaconda3\\lib\\site-packages\\sklearn\\utils\\validation.py:578: DataConversionWarning: A column-vector y was passed when a 1d array was expected. Please change the shape of y to (n_samples, ), for example using ravel().\n",
      "  y = column_or_1d(y, warn=True)\n"
     ]
    },
    {
     "data": {
      "text/plain": [
       "SGDClassifier(alpha=0.0001, average=False, class_weight=None, epsilon=0.1,\n",
       "       eta0=0.0, fit_intercept=True, l1_ratio=0.15,\n",
       "       learning_rate='optimal', loss='hinge', max_iter=None, n_iter=None,\n",
       "       n_jobs=1, penalty='l2', power_t=0.5, random_state=42, shuffle=True,\n",
       "       tol=None, verbose=0, warm_start=False)"
      ]
     },
     "execution_count": 20,
     "metadata": {},
     "output_type": "execute_result"
    }
   ],
   "source": [
    "sgd_clf = SGDClassifier(random_state = 42)\n",
    "\n",
    "\n",
    "sgd_clf.fit(X_train_mini, y_train_mini)"
   ]
  },
  {
   "cell_type": "code",
   "execution_count": 55,
   "metadata": {},
   "outputs": [
    {
     "name": "stdout",
     "output_type": "stream",
     "text": [
      "[   8    9   12 ... 9986 9992 9998]\n"
     ]
    }
   ],
   "source": [
    "guess_again = 7500\n",
    "\n",
    "\n",
    "\n",
    "total_sample_size = y_test.shape[0]\n",
    "predictVec = np.zeros((total_sample_size,1))\n",
    "for _ in range(total_sample_size):\n",
    "    predictVec[_] = sgd_clf.predict(X_test[_].reshape(1,784)) == y_test[_]\n",
    "\n",
    "print(np.where(predictVec == 0)[0])"
   ]
  }
 ],
 "metadata": {
  "kernelspec": {
   "display_name": "Python 3",
   "language": "python",
   "name": "python3"
  },
  "language_info": {
   "codemirror_mode": {
    "name": "ipython",
    "version": 3
   },
   "file_extension": ".py",
   "mimetype": "text/x-python",
   "name": "python",
   "nbconvert_exporter": "python",
   "pygments_lexer": "ipython3",
   "version": "3.6.5"
  }
 },
 "nbformat": 4,
 "nbformat_minor": 2
}

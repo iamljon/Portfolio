{
 "cells": [
  {
   "cell_type": "code",
   "execution_count": 1,
   "metadata": {},
   "outputs": [],
   "source": [
    "import pandas as pd\n",
    "import os\n",
    "import quandl\n",
    "import numpy as np\n",
    "import matplotlib.pyplot as plt\n",
    "\n",
    "from scipy.optimize import minimize"
   ]
  },
  {
   "cell_type": "code",
   "execution_count": 2,
   "metadata": {},
   "outputs": [],
   "source": [
    "# config file\n",
    "parent_path = os.path.abspath(os.path.pardir)\n",
    "cfg = os.path.join(parent_path,'cfg','quandl_api_key')"
   ]
  },
  {
   "cell_type": "code",
   "execution_count": 3,
   "metadata": {},
   "outputs": [],
   "source": [
    "# quandl config\n",
    "\n",
    "with open(cfg, 'r') as file:\n",
    "    api_key = file.readlines()[0]\n",
    "    \n",
    "quandl.ApiConfig.api_key = api_key"
   ]
  },
  {
   "cell_type": "code",
   "execution_count": 4,
   "metadata": {},
   "outputs": [],
   "source": [
    "# get list of stocks from metadata\n",
    "metadata_file = 'NSE_metadata.csv'   \n",
    "metadata_path = os.path.join(parent_path, 'dat', metadata_file)\n",
    "stocks = pd.read_csv(metadata_path, parse_dates=True)\n",
    "stocks = stocks.loc[stocks['from_date'] > '2017-01-01', 'code']\n",
    "\n",
    "total_stocks = stocks.count()"
   ]
  },
  {
   "cell_type": "code",
   "execution_count": 5,
   "metadata": {},
   "outputs": [],
   "source": [
    "# populate dataframe\n",
    "data = pd.DataFrame()\n",
    "\n",
    "for stock in range(total_stocks-1):\n",
    "    \n",
    "    raw_data = pd.DataFrame()\n",
    "    stock_code = stocks.iloc[stock]\n",
    "    \n",
    "    raw_data[['price']] = quandl.get( \\\n",
    "                                 'NSE/{}'.format(stock_code), \\\n",
    "                                 column_index=[5], \\\n",
    "                                 start_date='2018-01-01', \\\n",
    "                                 end_date='2018-12-31')\n",
    "    \n",
    "    raw_data['ticker'] = stock_code\n",
    "    \n",
    "    data = pd.concat([data, raw_data])"
   ]
  },
  {
   "cell_type": "code",
   "execution_count": 6,
   "metadata": {},
   "outputs": [
    {
     "name": "stdout",
     "output_type": "stream",
     "text": [
      "ticker  21STCENMGM     3PLAND      5PAISA     63MOONS       AAVAS   ABCAPITAL  \\\n",
      "count   232.000000  130.00000  246.000000  246.000000   57.000000  246.000000   \n",
      "mean     33.953233   13.00500  308.198374   86.841667  740.783333  138.433333   \n",
      "std       6.398385    0.99321   77.021682   13.568679   68.197717   24.713529   \n",
      "min      22.000000   11.05000  177.400000   62.800000  635.100000   94.450000   \n",
      "25%      27.662500   12.05000  236.500000   76.650000  670.300000  116.250000   \n",
      "50%      35.750000   13.25000  330.675000   83.575000  767.700000  141.400000   \n",
      "75%      38.550000   13.85000  358.750000   96.925000  785.900000  156.862500   \n",
      "max      45.550000   14.95000  486.850000  119.600000  857.500000  186.400000   \n",
      "\n",
      "ticker   ABMINTLTD    ADANIGAS  ADANIGREEN  ADROITINFO     ...      \\\n",
      "count   159.000000   38.000000  132.000000  171.000000     ...       \n",
      "mean     30.402516   94.125000   44.182955   26.011111     ...       \n",
      "std      14.648031   10.606243   10.900887    4.809851     ...       \n",
      "min      15.700000   75.600000   25.200000   17.150000     ...       \n",
      "25%      18.375000   81.000000   35.662500   21.000000     ...       \n",
      "50%      23.750000   98.800000   43.350000   27.500000     ...       \n",
      "75%      41.025000  100.725000   52.537500   29.700000     ...       \n",
      "max      68.800000  111.550000   73.300000   36.000000     ...       \n",
      "\n",
      "ticker     TECHNOE    TEJASNET   THEINVEST       TIFIN     TIINDIA   TREJHARA  \\\n",
      "count    19.000000  246.000000  105.000000  246.000000  246.000000   2.000000   \n",
      "mean    256.094737  305.319919  205.714286  615.104878  265.634350  64.800000   \n",
      "std      14.450816   56.785571   21.565282   75.594478   32.343667   2.333452   \n",
      "min     224.600000  196.850000  157.700000  469.650000  212.150000  63.150000   \n",
      "25%     251.425000  263.100000  187.850000  555.712500  234.837500  63.975000   \n",
      "50%     259.100000  303.200000  202.450000  636.575000  263.775000  64.800000   \n",
      "75%     261.150000  345.462500  225.500000  676.250000  293.187500  65.625000   \n",
      "max     288.800000  445.300000  265.550000  732.500000  356.250000  66.450000   \n",
      "\n",
      "ticker        URJA   UTINEXT50       VARROC    VIDHIING  \n",
      "count   246.000000  246.000000   118.000000  246.000000  \n",
      "mean      4.381911  291.901789   874.994068   83.118293  \n",
      "std       1.831462   13.519559   150.393600    8.564899  \n",
      "min       1.700000  258.180000   648.900000   68.100000  \n",
      "25%       3.200000  283.047500   727.587500   76.962500  \n",
      "50%       3.800000  292.725000   840.850000   81.925000  \n",
      "75%       5.100000  300.840000   999.012500   87.437500  \n",
      "max       9.950000  317.950000  1151.950000  108.850000  \n",
      "\n",
      "[8 rows x 188 columns]\n"
     ]
    }
   ],
   "source": [
    "# pivot tabular data to cross-section\n",
    "cross_section = data.pivot(columns='ticker',values='price')\n",
    "\n",
    "print(cross_section.describe())"
   ]
  },
  {
   "cell_type": "code",
   "execution_count": 7,
   "metadata": {},
   "outputs": [
    {
     "name": "stdout",
     "output_type": "stream",
     "text": [
      "<class 'pandas.core.frame.DataFrame'>\n",
      "DatetimeIndex: 246 entries, 2018-01-01 to 2018-12-31\n",
      "Columns: 188 entries, 21STCENMGM to VIDHIING\n",
      "dtypes: float64(188)\n",
      "memory usage: 363.2 KB\n",
      "None\n"
     ]
    }
   ],
   "source": [
    "print(cross_section.info())"
   ]
  },
  {
   "cell_type": "code",
   "execution_count": 8,
   "metadata": {},
   "outputs": [
    {
     "name": "stdout",
     "output_type": "stream",
     "text": [
      "<class 'pandas.core.frame.DataFrame'>\n",
      "DatetimeIndex: 246 entries, 2018-01-01 to 2018-12-31\n",
      "Data columns (total 92 columns):\n",
      "5PAISA        246 non-null float64\n",
      "63MOONS       246 non-null float64\n",
      "ABCAPITAL     246 non-null float64\n",
      "AGLSL         246 non-null float64\n",
      "AKSHARCHEM    246 non-null float64\n",
      "APCL          246 non-null float64\n",
      "APEX          246 non-null float64\n",
      "ARIHANTSUP    246 non-null float64\n",
      "ASTRON        246 non-null float64\n",
      "AUBANK        246 non-null float64\n",
      "AVADHSUGAR    246 non-null float64\n",
      "BHAGYANGR     246 non-null float64\n",
      "BHAGYAPROP    246 non-null float64\n",
      "BHANDARI      246 non-null float64\n",
      "BIOFILCHEM    244 non-null float64\n",
      "BKMINDST      246 non-null float64\n",
      "BRNL          246 non-null float64\n",
      "BSE           246 non-null float64\n",
      "CAPACITE      246 non-null float64\n",
      "CAPTRUST      246 non-null float64\n",
      "CDSL          246 non-null float64\n",
      "CGPOWER       246 non-null float64\n",
      "CLEDUCATE     246 non-null float64\n",
      "COCHINSHIP    246 non-null float64\n",
      "CORALFINAC    246 non-null float64\n",
      "DCAL          246 non-null float64\n",
      "DIAMONDYD     246 non-null float64\n",
      "DIXON         246 non-null float64\n",
      "DMART         246 non-null float64\n",
      "DNAMEDIA      246 non-null float64\n",
      "DOLLAR        246 non-null float64\n",
      "DYNPRO        246 non-null float64\n",
      "ERIS          246 non-null float64\n",
      "FAIRCHEM      246 non-null float64\n",
      "FSC           246 non-null float64\n",
      "GANGESSECU    243 non-null float64\n",
      "GEOJITFSL     246 non-null float64\n",
      "GICRE         246 non-null float64\n",
      "GODREJAGRO    246 non-null float64\n",
      "GTPL          246 non-null float64\n",
      "HDFCLIFE      246 non-null float64\n",
      "HISARMETAL    245 non-null float64\n",
      "HITECHCORP    246 non-null float64\n",
      "HUDCO         246 non-null float64\n",
      "ICICIGI       246 non-null float64\n",
      "IEX           246 non-null float64\n",
      "IFGLEXPOR     246 non-null float64\n",
      "INTENTECH     246 non-null float64\n",
      "JITFINFRA     246 non-null float64\n",
      "KHADIM        246 non-null float64\n",
      "KIOCL         246 non-null float64\n",
      "LASA          246 non-null float64\n",
      "LEEL          246 non-null float64\n",
      "MAGADSUGAR    246 non-null float64\n",
      "MAHLOG        246 non-null float64\n",
      "MASFIN        246 non-null float64\n",
      "MATRIMONY     246 non-null float64\n",
      "MOHOTAIND     246 non-null float64\n",
      "NACLIND       246 non-null float64\n",
      "NIACL         246 non-null float64\n",
      "NRAIL         246 non-null float64\n",
      "NTL           242 non-null float64\n",
      "OPTIEMUS      246 non-null float64\n",
      "PALASHSECU    240 non-null float64\n",
      "PODDARHOUS    244 non-null float64\n",
      "PRICOLLTD     246 non-null float64\n",
      "PSPPROJECT    246 non-null float64\n",
      "RADIOCITY     246 non-null float64\n",
      "RHFL          246 non-null float64\n",
      "RNAM          246 non-null float64\n",
      "RNAVAL        246 non-null float64\n",
      "SALASAR       246 non-null float64\n",
      "SBILIFE       246 non-null float64\n",
      "SCHAEFFLER    246 non-null float64\n",
      "SCHAND        246 non-null float64\n",
      "SHALBY        246 non-null float64\n",
      "SHANKARA      246 non-null float64\n",
      "SHIVATEX      246 non-null float64\n",
      "SIS           246 non-null float64\n",
      "SMSLIFE       246 non-null float64\n",
      "SORILINFRA    246 non-null float64\n",
      "SPTL          246 non-null float64\n",
      "STARCEMENT    246 non-null float64\n",
      "STEELXIND     246 non-null float64\n",
      "TASTYBITE     246 non-null float64\n",
      "TCPLPACK      246 non-null float64\n",
      "TEJASNET      246 non-null float64\n",
      "TIFIN         246 non-null float64\n",
      "TIINDIA       246 non-null float64\n",
      "URJA          246 non-null float64\n",
      "UTINEXT50     246 non-null float64\n",
      "VIDHIING      246 non-null float64\n",
      "dtypes: float64(92)\n",
      "memory usage: 178.7 KB\n",
      "None\n"
     ]
    }
   ],
   "source": [
    "# pick columns with atleast 240 values \n",
    "cross_section = cross_section.loc[ :, cross_section.count().ge(240) ]\n",
    "print(cross_section.info())"
   ]
  },
  {
   "cell_type": "code",
   "execution_count": 9,
   "metadata": {},
   "outputs": [],
   "source": [
    "# calculate returns and standardize prices\n",
    "df_returns = cross_section.pct_change()\n",
    "df_prices = 100 * (1 + df_returns).cumprod()"
   ]
  },
  {
   "cell_type": "code",
   "execution_count": 10,
   "metadata": {},
   "outputs": [],
   "source": [
    "volatility = df_returns.std(axis=0)\n",
    "mu = df_returns.mean(axis=0)"
   ]
  },
  {
   "cell_type": "code",
   "execution_count": 11,
   "metadata": {},
   "outputs": [
    {
     "data": {
      "text/plain": [
       "count    92.000000\n",
       "mean      0.028509\n",
       "std       0.008655\n",
       "min       0.012216\n",
       "10%       0.017671\n",
       "20%       0.020828\n",
       "30%       0.023086\n",
       "40%       0.025899\n",
       "50%       0.028676\n",
       "60%       0.030465\n",
       "70%       0.032927\n",
       "80%       0.035676\n",
       "90%       0.038375\n",
       "100%      0.059776\n",
       "max       0.059776\n",
       "dtype: float64"
      ]
     },
     "execution_count": 11,
     "metadata": {},
     "output_type": "execute_result"
    }
   ],
   "source": [
    "volatility.describe(percentiles=[0.1,0.2,0.3,0.4,0.5,0.6,0.7,0.8,0.9,1.0])"
   ]
  },
  {
   "cell_type": "code",
   "execution_count": 12,
   "metadata": {},
   "outputs": [
    {
     "data": {
      "text/plain": [
       "count    92.000000\n",
       "mean     -0.001925\n",
       "std       0.001836\n",
       "min      -0.006712\n",
       "10%      -0.004065\n",
       "20%      -0.003386\n",
       "30%      -0.002751\n",
       "40%      -0.002363\n",
       "50%      -0.001765\n",
       "60%      -0.001399\n",
       "70%      -0.000921\n",
       "80%      -0.000390\n",
       "90%       0.000136\n",
       "100%      0.001881\n",
       "max       0.001881\n",
       "dtype: float64"
      ]
     },
     "execution_count": 12,
     "metadata": {},
     "output_type": "execute_result"
    }
   ],
   "source": [
    "mu.describe(percentiles=[0.1,0.2,0.3,0.4,0.5,0.6,0.7,0.8,0.9,1.0])"
   ]
  },
  {
   "cell_type": "code",
   "execution_count": 13,
   "metadata": {},
   "outputs": [],
   "source": [
    "# parameters for weight estimation\n",
    "sigma = df_returns.cov()\n",
    "sigma_inv = np.linalg.inv(sigma)\n",
    "ones = np.ones((df_returns.shape[1],1))"
   ]
  },
  {
   "cell_type": "code",
   "execution_count": 14,
   "metadata": {},
   "outputs": [
    {
     "name": "stdout",
     "output_type": "stream",
     "text": [
      "Sum of weights: 1.0\n",
      "Sum of weights (post setting negative = 0): 1.0000000000000002\n"
     ]
    },
    {
     "data": {
      "image/png": "[encoded data removed]",
      "text/plain": [
       "<Figure size 432x288 with 1 Axes>"
      ]
     },
     "metadata": {
      "needs_background": "light"
     },
     "output_type": "display_data"
    }
   ],
   "source": [
    "# analytical solution\n",
    "mv_weight = np.dot(sigma_inv, ones) / np.dot(ones.T, np.dot(sigma_inv,ones))\n",
    "print('Sum of weights: {}'.format(mv_weight.sum()))\n",
    "\n",
    "mv_weight[mv_weight < 0] = 0\n",
    "mv_weight = mv_weight / np.sum(mv_weight)\n",
    "print('Sum of weights (post setting negative = 0): {}'.format(mv_weight.sum()))\n",
    "\n",
    "plt.plot(mv_weight)\n",
    "plt.xlabel('Stock')\n",
    "plt.ylabel('Weight')\n",
    "plt.show()"
   ]
  },
  {
   "cell_type": "code",
   "execution_count": 23,
   "metadata": {},
   "outputs": [],
   "source": [
    "# Minimum volatility - numerical solution - inputs\n",
    "\n",
    "w = np.random.rand(ones.shape[0])\n",
    "cons = {'type':'eq','fun':lambda x : np.sum(x) - 1.0 }\n",
    "\n",
    "size_universe = w.shape[0]\n",
    "lower_bound = 1 / (3 * size_universe)\n",
    "upper_bound = 3 / size_universe\n",
    "\n",
    "bound = ((lower_bound,upper_bound))\n",
    "bounds = (bound,) * w.shape[0]"
   ]
  },
  {
   "cell_type": "code",
   "execution_count": 24,
   "metadata": {},
   "outputs": [],
   "source": [
    "# objective function\n",
    "def minimize_volatility(w, sigma = sigma):\n",
    "    return np.dot(w.T, np.dot(sigma,w))"
   ]
  },
  {
   "cell_type": "code",
   "execution_count": 25,
   "metadata": {},
   "outputs": [],
   "source": [
    "# minimize\n",
    "optimizer_output = minimize(minimize_volatility, w, method='SLSQP', bounds=bounds, constraints=cons )"
   ]
  },
  {
   "cell_type": "code",
   "execution_count": 26,
   "metadata": {},
   "outputs": [
    {
     "data": {
      "text/plain": [
       "0.9999999999999987"
      ]
     },
     "execution_count": 26,
     "metadata": {},
     "output_type": "execute_result"
    }
   ],
   "source": [
    "# verification\n",
    "optimizer_output.x.sum()"
   ]
  },
  {
   "cell_type": "code",
   "execution_count": 27,
   "metadata": {},
   "outputs": [
    {
     "name": "stdout",
     "output_type": "stream",
     "text": [
      "Count of Positive weights: 92\n",
      "Shape of w vector: 92\n"
     ]
    }
   ],
   "source": [
    "# checking positive weights\n",
    "weights = optimizer_output.x\n",
    "weights = pd.Series(weights)\n",
    "\n",
    "# count of positive weights\n",
    "print('Count of Positive weights: {}'.format(weights.ge(0).sum()))\n",
    "\n",
    "# shape of w\n",
    "print('Shape of w vector: {}'.format(w.shape[0]))"
   ]
  },
  {
   "cell_type": "code",
   "execution_count": 28,
   "metadata": {},
   "outputs": [
    {
     "name": "stdout",
     "output_type": "stream",
     "text": [
      "Sum of weights: 0.9999999999999987\n",
      "Sum of weights (post setting negative = 0): 0.9999999999999998\n"
     ]
    },
    {
     "data": {
      "image/png": "[encoded data removed]",
      "text/plain": [
       "<Figure size 432x288 with 1 Axes>"
      ]
     },
     "metadata": {
      "needs_background": "light"
     },
     "output_type": "display_data"
    }
   ],
   "source": [
    "# numerical solution\n",
    "optimizer_weights = optimizer_output.x\n",
    "print('Sum of weights: {}'.format(optimizer_weights.sum()))\n",
    "\n",
    "optimizer_weights[optimizer_weights < 0] = 0\n",
    "optimizer_weights = optimizer_weights / np.sum(optimizer_weights)\n",
    "print('Sum of weights (post setting negative = 0): {}'.format(optimizer_weights.sum()))\n",
    "\n",
    "plt.plot(optimizer_weights)\n",
    "plt.xlabel('Stock')\n",
    "plt.ylabel('Weight')\n",
    "plt.show()"
   ]
  }
 ],
 "metadata": {
  "kernelspec": {
   "display_name": "Python 3",
   "language": "python",
   "name": "python3"
  },
  "language_info": {
   "codemirror_mode": {
    "name": "ipython",
    "version": 3
   },
   "file_extension": ".py",
   "mimetype": "text/x-python",
   "name": "python",
   "nbconvert_exporter": "python",
   "pygments_lexer": "ipython3",
   "version": "3.6.6"
  }
 },
 "nbformat": 4,
 "nbformat_minor": 2
}
